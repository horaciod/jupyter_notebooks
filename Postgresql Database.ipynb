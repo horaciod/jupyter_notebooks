{
 "cells": [
   {
   "cell_type": "markdown",
   "metadata": {},
   "source": [
    "#Acceso a datos desde postgresql\n",
    "\n",
    "-Primer tenemos que instalar pcycopg2 \n",
    "con \n",
    "conda install -y sqlalchemy psycopg2\n",
    "\n"
   ]
  },
  {
   "cell_type": "code",
   "execution_count": 8,
   "metadata": {},
   "outputs": [
    {
     "name": "stdout",
     "output_type": "stream",
     "text": [
      "                                             journal  count\n",
      "0            Acta bioquímica clínica latinoamericana   2999\n",
      "1                            Acta geológica lilloana     32\n",
      "2                  Acta Odontológica Latinoamericana   1649\n",
      "3                        Acta toxicológica argentina    491\n",
      "4                                       Agriscientia    594\n",
      "5                                        Ameghiniana    809\n",
      "6               Anales (Asociación Física Argentina)    392\n",
      "7          Anales de la Asociación Química Argentina    337\n",
      "8  Anales del Instituto de Arte Americano e Inves...    281\n",
      "9                                Análisis filosófico    241\n"
     ]
    }
   ],
   "source": [
    "# how to get pandas data from postgree sql using python \n",
    "import psycopg2 as pg\n",
    "import pandas.io.sql as psql\n",
    "import pandas as pd\n",
    "connection = pg.connect(\"host='localhost' dbname=scielo user=postgres password='xxx'\")\n",
    "#dataframe = psql.DataFrame(\"SELECT * FROM category\", connection)\n",
    "df = pd.read_sql_query('select journal,count(1) from autores where collection=\\'Argentina\\' group by 1 limit 10 ',con=connection)\n",
    "print(df)"
   ]
  },
  {
   "cell_type": "code",
   "execution_count": 19,
   "metadata": {},
   "outputs": [
    {
     "name": "stdout",
     "output_type": "stream",
     "text": [
      "   country_iso  count\n",
      "0           CL    141\n",
      "1           AR    102\n",
      "2           EC     94\n",
      "3           PY     54\n",
      "4           BR     52\n",
      "5           VE     50\n",
      "6           CO     44\n",
      "7           SE     42\n",
      "8           ES     42\n",
      "9           US     29\n",
      "10          UY     25\n",
      "11          HN     24\n",
      "12          JP     21\n",
      "13          CU     13\n",
      "14          MX      9\n",
      "15          DK      8\n",
      "16          GY      8\n",
      "17          FR      7\n",
      "18          NL      6\n",
      "19          LU      6\n",
      "20          CR      5\n",
      "21          CH      3\n",
      "22          CA      3\n",
      "23          GT      3\n",
      "24          BE      2\n",
      "25          PE      2\n",
      "26          GB      2\n",
      "27          TR      2\n",
      "28          DE      2\n",
      "29          AT      1\n",
      "30          PR      1\n",
      "31          PL      1\n",
      "32          MG      1\n",
      "33          NI      1\n",
      "34          PT      1\n"
     ]
    }
   ],
   "source": [
    "df2 = pd.read_sql_query('select country_iso,count(1) from autores where   collection=\\'Bolivia\\' and country_iso!=\\'BO\\' group by 1 order by 2 desc limit 100 ',con=connection)\n",
    "print(df2)"
   ]
  },
  {
   "cell_type": "markdown",
   "metadata": {},
   "source": [
    "# Filiación de los autores que publican en revistas argentinas"
   ]
  },
  {
   "cell_type": "code",
   "execution_count": 21,
   "metadata": {},
   "outputs": [
    {
     "name": "stdout",
     "output_type": "stream",
     "text": [
      "                                    journal_publisher  count\n",
      "0                     Sociedad Argentina de Pediatría   8296\n",
      "1                          Fundación Revista Medicina   7688\n",
      "2                   Sociedad Argentina de Cardiología   5265\n",
      "3               Asociación Argentina de Microbiología   4223\n",
      "4                      Asociación Geológica Argentina   3134\n",
      "5   Federación Bioquímica de la Provincia de Bueno...   2999\n",
      "6   Universidad de Buenos Aires. Facultad de Psico...   2310\n",
      "7   Universidad Nacional del Sur y Consejo Naciona...   2156\n",
      "8                    Sociedad Argentina de Radiología   1924\n",
      "9                             Fundación Rómulo Raggio   1923\n",
      "10                     Sociedad Argentina de Botánica   1840\n",
      "11  Asociación Argentina de Ortopedia y Traumatología   1799\n",
      "12      Asociación Argentina de Medicina Respiratoria   1787\n",
      "13   Sociedad Argentina de Investigación Odontológica   1649\n",
      "14  Sociedad Argentina de Endocrinología y Metabol...   1575\n",
      "15    Centro de Investigaciones y Estudios Turísticos   1518\n",
      "16                   Asociación Argentina de Ecología   1477\n",
      "17  Revista de la Facultad de Ciencias Agrarias. U...   1471\n",
      "18       Asociación Argentina de la Ciencia del Suelo   1440\n",
      "19                    Sociedad Entomológica Argentina   1440\n",
      "20               Asociación Argentina de Dermatología   1420\n",
      "21                      Comité Insuficiencia Cardíaca   1232\n",
      "22  Sociedad Argentina para el Estudio de los Mamí...   1199\n",
      "23  Universidad Nacional del Centro de la Provinci...   1071\n",
      "24  Facultad de Ciencias Veterinarias, Universidad...   1012\n",
      "25                      Universidad Nacional de Lanús    985\n",
      "26  Sociedad Latinoamericana de Microscopía Electr...    960\n",
      "27                    Asociación Argentina de Cirugía    911\n",
      "28  Universidad Nacional del Nordeste, Facultad de...    870\n",
      "29                 Universidad Nacional de Entre Ríos    843\n",
      "..                                                ...    ...\n",
      "70  Facultad de Ciencias Económicas, Universidad N...    311\n",
      "71  Universidad Nacional de Santiago del Estero. F...    305\n",
      "72  Centro de Estudios Avanzados, Universidad Naci...    305\n",
      "73                   Centro Argentino de Meteorólogos    303\n",
      "74    Sociedad Argentina de Historia de la Educacion.    298\n",
      "75                                  Grupo Prohistoria    295\n",
      "76  Instituto de Botánica \"Darwinion\" (IBODA-CONICET)    295\n",
      "77                  Grupo Interuniversitario Postdata    290\n",
      "78  Museo de Antropología; Facultad de Filosofía y...    286\n",
      "79                  Universidad Nacional del Nordeste    286\n",
      "80  Universidad de Buenos Aires. Instituto de Arte...    281\n",
      "81                 Sociedad Argentina de Antropología    279\n",
      "82  Universidad de Buenos Aires. Facultad de Filos...    277\n",
      "83         Ministerio de Salud de la Nacion Argentina    275\n",
      "84  Programa de Investigaciones sobre Trabajo y So...    274\n",
      "85  Red de Universidades Nacionales con Carreras d...    272\n",
      "86  Instituto Superior de Correlación Geológica (I...    272\n",
      "87  Departamento de Geografía y Turismo. Universid...    270\n",
      "88  Instituto de Estudios Socio-Históricos. Facult...    262\n",
      "89  Instituto de Investigaciones de Historia del D...    261\n",
      "90                                      Ediciones UNL    261\n",
      "91  Instituto de Estudios Clásicos. Facultad de Ci...    261\n",
      "92                                  Paper in Physics.    251\n",
      "93  Magister en Administración Pública, Facultad d...    248\n",
      "94  Instituto de Ciencias Sociales, Humanas y Ambi...    247\n",
      "95              Centro de Investigaciones Filosóficas    246\n",
      "96  Facultad de Psicología, Universidad Nacional d...    245\n",
      "97  Universidad Nacional de Salta. Facultad de Hum...    243\n",
      "98  Sociedad Iberoamericana de Informaciòn cientìfica    242\n",
      "99                                              SADAF    241\n",
      "\n",
      "[100 rows x 2 columns]\n"
     ]
    }
   ],
   "source": [
    "df3 = pd.read_sql_query('select journal_publisher,count(1) from autores where  collection=\\'Argentina\\' group by 1 order by 2 desc limit 100 ',con=connection)\n",
    "print(df3)"
   ]
  },
  {
   "cell_type": "code",
   "execution_count": null,
   "metadata": {},
   "outputs": [],
   "source": []
  }
 ],
 "metadata": {
  "kernelspec": {
   "display_name": "Python 3",
   "language": "python",
   "name": "python3"
  },
  "language_info": {
   "codemirror_mode": {
    "name": "ipython",
    "version": 3
   },
   "file_extension": ".py",
   "mimetype": "text/x-python",
   "name": "python",
   "nbconvert_exporter": "python",
   "pygments_lexer": "ipython3",
   "version": "3.7.3"
  }
 },
 "nbformat": 4,
 "nbformat_minor": 2
}
